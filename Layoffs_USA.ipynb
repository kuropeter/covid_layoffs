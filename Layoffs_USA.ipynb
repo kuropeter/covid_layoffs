{
 "cells": [
  {
   "cell_type": "markdown",
   "metadata": {},
   "source": [
    "# Project Title: Analysis of Layoffs during Covid-19 Pandemic\n",
    "## 11th March 2020 to 14th Febuary 2023"
   ]
  },
  {
   "cell_type": "markdown",
   "metadata": {},
   "source": [
    "## Project Description\n",
    "This notebook is "
   ]
  },
  {
   "cell_type": "code",
   "execution_count": 1,
   "metadata": {},
   "outputs": [],
   "source": [
    "import pandas as pd\n",
    "import numpy as np\n",
    "import matplotlib.pyplot as plt\n",
    "import seaborn as sns"
   ]
  },
  {
   "cell_type": "code",
   "execution_count": 9,
   "metadata": {},
   "outputs": [
    {
     "data": {
      "text/html": [
       "<div>\n",
       "<style scoped>\n",
       "    .dataframe tbody tr th:only-of-type {\n",
       "        vertical-align: middle;\n",
       "    }\n",
       "\n",
       "    .dataframe tbody tr th {\n",
       "        vertical-align: top;\n",
       "    }\n",
       "\n",
       "    .dataframe thead th {\n",
       "        text-align: right;\n",
       "    }\n",
       "</style>\n",
       "<table border=\"1\" class=\"dataframe\">\n",
       "  <thead>\n",
       "    <tr style=\"text-align: right;\">\n",
       "      <th></th>\n",
       "      <th>company</th>\n",
       "      <th>location</th>\n",
       "      <th>industry</th>\n",
       "      <th>total_laid_off</th>\n",
       "      <th>percentage_laid_off</th>\n",
       "      <th>date</th>\n",
       "      <th>stage</th>\n",
       "      <th>country</th>\n",
       "      <th>funds_raised</th>\n",
       "    </tr>\n",
       "  </thead>\n",
       "  <tbody>\n",
       "    <tr>\n",
       "      <th>459</th>\n",
       "      <td>Google</td>\n",
       "      <td>SF Bay Area</td>\n",
       "      <td>Consumer</td>\n",
       "      <td>12000.0</td>\n",
       "      <td>0.06</td>\n",
       "      <td>2023-01-20</td>\n",
       "      <td>Post-IPO</td>\n",
       "      <td>United States</td>\n",
       "      <td>26.0</td>\n",
       "    </tr>\n",
       "    <tr>\n",
       "      <th>932</th>\n",
       "      <td>Meta</td>\n",
       "      <td>SF Bay Area</td>\n",
       "      <td>Consumer</td>\n",
       "      <td>11000.0</td>\n",
       "      <td>0.13</td>\n",
       "      <td>2022-11-09</td>\n",
       "      <td>Post-IPO</td>\n",
       "      <td>United States</td>\n",
       "      <td>26000.0</td>\n",
       "    </tr>\n",
       "    <tr>\n",
       "      <th>141</th>\n",
       "      <td>Meta</td>\n",
       "      <td>SF Bay Area</td>\n",
       "      <td>Consumer</td>\n",
       "      <td>10000.0</td>\n",
       "      <td>NaN</td>\n",
       "      <td>2023-03-14</td>\n",
       "      <td>Post-IPO</td>\n",
       "      <td>United States</td>\n",
       "      <td>26000.0</td>\n",
       "    </tr>\n",
       "    <tr>\n",
       "      <th>492</th>\n",
       "      <td>Microsoft</td>\n",
       "      <td>Seattle</td>\n",
       "      <td>Other</td>\n",
       "      <td>10000.0</td>\n",
       "      <td>0.05</td>\n",
       "      <td>2023-01-18</td>\n",
       "      <td>Post-IPO</td>\n",
       "      <td>United States</td>\n",
       "      <td>1.0</td>\n",
       "    </tr>\n",
       "    <tr>\n",
       "      <th>864</th>\n",
       "      <td>Amazon</td>\n",
       "      <td>Seattle</td>\n",
       "      <td>Retail</td>\n",
       "      <td>10000.0</td>\n",
       "      <td>0.03</td>\n",
       "      <td>2022-11-16</td>\n",
       "      <td>Post-IPO</td>\n",
       "      <td>United States</td>\n",
       "      <td>108.0</td>\n",
       "    </tr>\n",
       "    <tr>\n",
       "      <th>125</th>\n",
       "      <td>Amazon</td>\n",
       "      <td>Seattle</td>\n",
       "      <td>Retail</td>\n",
       "      <td>9000.0</td>\n",
       "      <td>NaN</td>\n",
       "      <td>2023-03-20</td>\n",
       "      <td>Post-IPO</td>\n",
       "      <td>United States</td>\n",
       "      <td>108.0</td>\n",
       "    </tr>\n",
       "    <tr>\n",
       "      <th>210</th>\n",
       "      <td>Ericsson</td>\n",
       "      <td>Stockholm</td>\n",
       "      <td>Other</td>\n",
       "      <td>8500.0</td>\n",
       "      <td>0.08</td>\n",
       "      <td>2023-02-24</td>\n",
       "      <td>Post-IPO</td>\n",
       "      <td>Sweden</td>\n",
       "      <td>663.0</td>\n",
       "    </tr>\n",
       "    <tr>\n",
       "      <th>633</th>\n",
       "      <td>Salesforce</td>\n",
       "      <td>SF Bay Area</td>\n",
       "      <td>Sales</td>\n",
       "      <td>8000.0</td>\n",
       "      <td>0.10</td>\n",
       "      <td>2023-01-04</td>\n",
       "      <td>Post-IPO</td>\n",
       "      <td>United States</td>\n",
       "      <td>65.0</td>\n",
       "    </tr>\n",
       "    <tr>\n",
       "      <th>632</th>\n",
       "      <td>Amazon</td>\n",
       "      <td>Seattle</td>\n",
       "      <td>Retail</td>\n",
       "      <td>8000.0</td>\n",
       "      <td>0.02</td>\n",
       "      <td>2023-01-04</td>\n",
       "      <td>Post-IPO</td>\n",
       "      <td>United States</td>\n",
       "      <td>108.0</td>\n",
       "    </tr>\n",
       "    <tr>\n",
       "      <th>18</th>\n",
       "      <td>Flink</td>\n",
       "      <td>Berlin</td>\n",
       "      <td>Food</td>\n",
       "      <td>8000.0</td>\n",
       "      <td>0.40</td>\n",
       "      <td>2023-04-24</td>\n",
       "      <td>Series B</td>\n",
       "      <td>Germany</td>\n",
       "      <td>1000.0</td>\n",
       "    </tr>\n",
       "    <tr>\n",
       "      <th>324</th>\n",
       "      <td>Dell</td>\n",
       "      <td>Austin</td>\n",
       "      <td>Hardware</td>\n",
       "      <td>6650.0</td>\n",
       "      <td>0.05</td>\n",
       "      <td>2023-02-06</td>\n",
       "      <td>Post-IPO</td>\n",
       "      <td>United States</td>\n",
       "      <td>NaN</td>\n",
       "    </tr>\n",
       "    <tr>\n",
       "      <th>388</th>\n",
       "      <td>Philips</td>\n",
       "      <td>Amsterdam</td>\n",
       "      <td>Healthcare</td>\n",
       "      <td>6000.0</td>\n",
       "      <td>0.13</td>\n",
       "      <td>2023-01-30</td>\n",
       "      <td>Post-IPO</td>\n",
       "      <td>Netherlands</td>\n",
       "      <td>NaN</td>\n",
       "    </tr>\n",
       "    <tr>\n",
       "      <th>645</th>\n",
       "      <td>Micron</td>\n",
       "      <td>Boise</td>\n",
       "      <td>Hardware</td>\n",
       "      <td>4800.0</td>\n",
       "      <td>0.10</td>\n",
       "      <td>2023-01-01</td>\n",
       "      <td>Post-IPO</td>\n",
       "      <td>United States</td>\n",
       "      <td>50.0</td>\n",
       "    </tr>\n",
       "    <tr>\n",
       "      <th>1967</th>\n",
       "      <td>Booking.com</td>\n",
       "      <td>Amsterdam</td>\n",
       "      <td>Travel</td>\n",
       "      <td>4375.0</td>\n",
       "      <td>0.25</td>\n",
       "      <td>2020-07-30</td>\n",
       "      <td>Acquired</td>\n",
       "      <td>Netherlands</td>\n",
       "      <td>NaN</td>\n",
       "    </tr>\n",
       "    <tr>\n",
       "      <th>865</th>\n",
       "      <td>Cisco</td>\n",
       "      <td>SF Bay Area</td>\n",
       "      <td>Infrastructure</td>\n",
       "      <td>4100.0</td>\n",
       "      <td>0.05</td>\n",
       "      <td>2022-11-16</td>\n",
       "      <td>Post-IPO</td>\n",
       "      <td>United States</td>\n",
       "      <td>2.0</td>\n",
       "    </tr>\n",
       "    <tr>\n",
       "      <th>1034</th>\n",
       "      <td>Philips</td>\n",
       "      <td>Amsterdam</td>\n",
       "      <td>Healthcare</td>\n",
       "      <td>4000.0</td>\n",
       "      <td>0.05</td>\n",
       "      <td>2022-10-24</td>\n",
       "      <td>Post-IPO</td>\n",
       "      <td>Netherlands</td>\n",
       "      <td>NaN</td>\n",
       "    </tr>\n",
       "    <tr>\n",
       "      <th>423</th>\n",
       "      <td>IBM</td>\n",
       "      <td>New York City</td>\n",
       "      <td>Hardware</td>\n",
       "      <td>3900.0</td>\n",
       "      <td>0.02</td>\n",
       "      <td>2023-01-25</td>\n",
       "      <td>Post-IPO</td>\n",
       "      <td>United States</td>\n",
       "      <td>NaN</td>\n",
       "    </tr>\n",
       "    <tr>\n",
       "      <th>2116</th>\n",
       "      <td>Uber</td>\n",
       "      <td>SF Bay Area</td>\n",
       "      <td>Transportation</td>\n",
       "      <td>3700.0</td>\n",
       "      <td>0.14</td>\n",
       "      <td>2020-05-06</td>\n",
       "      <td>Post-IPO</td>\n",
       "      <td>United States</td>\n",
       "      <td>24700.0</td>\n",
       "    </tr>\n",
       "    <tr>\n",
       "      <th>964</th>\n",
       "      <td>Twitter</td>\n",
       "      <td>SF Bay Area</td>\n",
       "      <td>Consumer</td>\n",
       "      <td>3700.0</td>\n",
       "      <td>0.50</td>\n",
       "      <td>2022-11-04</td>\n",
       "      <td>Post-IPO</td>\n",
       "      <td>United States</td>\n",
       "      <td>12900.0</td>\n",
       "    </tr>\n",
       "    <tr>\n",
       "      <th>2071</th>\n",
       "      <td>Uber</td>\n",
       "      <td>SF Bay Area</td>\n",
       "      <td>Transportation</td>\n",
       "      <td>3000.0</td>\n",
       "      <td>0.13</td>\n",
       "      <td>2020-05-18</td>\n",
       "      <td>Post-IPO</td>\n",
       "      <td>United States</td>\n",
       "      <td>24700.0</td>\n",
       "    </tr>\n",
       "  </tbody>\n",
       "</table>\n",
       "</div>"
      ],
      "text/plain": [
       "          company       location        industry  total_laid_off  \\\n",
       "459        Google    SF Bay Area        Consumer         12000.0   \n",
       "932          Meta    SF Bay Area        Consumer         11000.0   \n",
       "141          Meta    SF Bay Area        Consumer         10000.0   \n",
       "492     Microsoft        Seattle           Other         10000.0   \n",
       "864        Amazon        Seattle          Retail         10000.0   \n",
       "125        Amazon        Seattle          Retail          9000.0   \n",
       "210      Ericsson      Stockholm           Other          8500.0   \n",
       "633    Salesforce    SF Bay Area           Sales          8000.0   \n",
       "632        Amazon        Seattle          Retail          8000.0   \n",
       "18          Flink         Berlin            Food          8000.0   \n",
       "324          Dell         Austin        Hardware          6650.0   \n",
       "388       Philips      Amsterdam      Healthcare          6000.0   \n",
       "645        Micron          Boise        Hardware          4800.0   \n",
       "1967  Booking.com      Amsterdam          Travel          4375.0   \n",
       "865         Cisco    SF Bay Area  Infrastructure          4100.0   \n",
       "1034      Philips      Amsterdam      Healthcare          4000.0   \n",
       "423           IBM  New York City        Hardware          3900.0   \n",
       "2116         Uber    SF Bay Area  Transportation          3700.0   \n",
       "964       Twitter    SF Bay Area        Consumer          3700.0   \n",
       "2071         Uber    SF Bay Area  Transportation          3000.0   \n",
       "\n",
       "      percentage_laid_off        date     stage        country  funds_raised  \n",
       "459                  0.06  2023-01-20  Post-IPO  United States          26.0  \n",
       "932                  0.13  2022-11-09  Post-IPO  United States       26000.0  \n",
       "141                   NaN  2023-03-14  Post-IPO  United States       26000.0  \n",
       "492                  0.05  2023-01-18  Post-IPO  United States           1.0  \n",
       "864                  0.03  2022-11-16  Post-IPO  United States         108.0  \n",
       "125                   NaN  2023-03-20  Post-IPO  United States         108.0  \n",
       "210                  0.08  2023-02-24  Post-IPO         Sweden         663.0  \n",
       "633                  0.10  2023-01-04  Post-IPO  United States          65.0  \n",
       "632                  0.02  2023-01-04  Post-IPO  United States         108.0  \n",
       "18                   0.40  2023-04-24  Series B        Germany        1000.0  \n",
       "324                  0.05  2023-02-06  Post-IPO  United States           NaN  \n",
       "388                  0.13  2023-01-30  Post-IPO    Netherlands           NaN  \n",
       "645                  0.10  2023-01-01  Post-IPO  United States          50.0  \n",
       "1967                 0.25  2020-07-30  Acquired    Netherlands           NaN  \n",
       "865                  0.05  2022-11-16  Post-IPO  United States           2.0  \n",
       "1034                 0.05  2022-10-24  Post-IPO    Netherlands           NaN  \n",
       "423                  0.02  2023-01-25  Post-IPO  United States           NaN  \n",
       "2116                 0.14  2020-05-06  Post-IPO  United States       24700.0  \n",
       "964                  0.50  2022-11-04  Post-IPO  United States       12900.0  \n",
       "2071                 0.13  2020-05-18  Post-IPO  United States       24700.0  "
      ]
     },
     "execution_count": 9,
     "metadata": {},
     "output_type": "execute_result"
    }
   ],
   "source": [
    "path = r\"layoffs.csv\"\n",
    "df = pd.read_csv(path)\n",
    "df.sort_values(by='total_laid_off', ascending=False).head(20)"
   ]
  },
  {
   "cell_type": "code",
   "execution_count": 10,
   "metadata": {},
   "outputs": [
    {
     "data": {
      "text/plain": [
       "array(['United States', 'Australia', 'India', 'Singapore', 'Germany',\n",
       "       'Saudi Arabia', 'Poland', 'France', 'Philippines', 'Israel',\n",
       "       'United Kingdom', 'Nigeria', 'Chile', 'Canada', 'New Zealand',\n",
       "       'Spain', 'China', 'Sweden', 'Austria', 'Ukraine', 'Switzerland',\n",
       "       'Ireland', 'Indonesia', 'Japan', 'Brazil', 'South Korea', 'Italy',\n",
       "       'Estonia', 'Finland', 'Netherlands', 'Portugal', 'Colombia',\n",
       "       'Argentina', 'Seychelles', 'Mexico', 'Egypt', 'Kenya',\n",
       "       'Luxembourg', 'Greece', 'Norway', 'Belgium', 'Denmark',\n",
       "       'Hong Kong', 'Malaysia', 'Hungary', 'Vietnam', 'Thailand',\n",
       "       'Lithuania', 'Ghana', 'Senegal', 'Pakistan',\n",
       "       'United Arab Emirates', 'Peru', 'Bahrain', 'Romania', 'Turkey',\n",
       "       'Russia', 'Uruguay', 'Bulgaria', 'South Africa', 'Czech Republic',\n",
       "       'Myanmar'], dtype=object)"
      ]
     },
     "execution_count": 10,
     "metadata": {},
     "output_type": "execute_result"
    }
   ],
   "source": [
    "df.country.unique()"
   ]
  },
  {
   "cell_type": "markdown",
   "metadata": {},
   "source": [
    "### Exploring Data"
   ]
  },
  {
   "cell_type": "code",
   "execution_count": 5,
   "metadata": {},
   "outputs": [
    {
     "data": {
      "text/plain": [
       "(2545, 9)"
      ]
     },
     "execution_count": 5,
     "metadata": {},
     "output_type": "execute_result"
    }
   ],
   "source": [
    "df.shape"
   ]
  },
  {
   "cell_type": "code",
   "execution_count": 6,
   "metadata": {},
   "outputs": [
    {
     "name": "stdout",
     "output_type": "stream",
     "text": [
      "<class 'pandas.core.frame.DataFrame'>\n",
      "RangeIndex: 2545 entries, 0 to 2544\n",
      "Data columns (total 9 columns):\n",
      " #   Column               Non-Null Count  Dtype  \n",
      "---  ------               --------------  -----  \n",
      " 0   company              2545 non-null   object \n",
      " 1   location             2545 non-null   object \n",
      " 2   industry             2543 non-null   object \n",
      " 3   total_laid_off       1746 non-null   float64\n",
      " 4   percentage_laid_off  1694 non-null   float64\n",
      " 5   date                 2543 non-null   object \n",
      " 6   stage                2539 non-null   object \n",
      " 7   country              2545 non-null   object \n",
      " 8   funds_raised         2297 non-null   float64\n",
      "dtypes: float64(3), object(6)\n",
      "memory usage: 179.1+ KB\n"
     ]
    }
   ],
   "source": [
    "df.info()"
   ]
  },
  {
   "cell_type": "code",
   "execution_count": 9,
   "metadata": {},
   "outputs": [
    {
     "data": {
      "text/plain": [
       "company                2021\n",
       "location                206\n",
       "industry                 29\n",
       "total_laid_off          299\n",
       "percentage_laid_off      77\n",
       "date                    528\n",
       "stage                    16\n",
       "country                  62\n",
       "funds_raised            652\n",
       "dtype: int64"
      ]
     },
     "execution_count": 9,
     "metadata": {},
     "output_type": "execute_result"
    }
   ],
   "source": [
    "df.nunique()"
   ]
  },
  {
   "cell_type": "markdown",
   "metadata": {},
   "source": [
    "### Observing for Missing Numbers"
   ]
  },
  {
   "cell_type": "code",
   "execution_count": 10,
   "metadata": {},
   "outputs": [
    {
     "data": {
      "text/plain": [
       "company                  0\n",
       "location                 0\n",
       "industry                 2\n",
       "total_laid_off         799\n",
       "percentage_laid_off    851\n",
       "date                     2\n",
       "stage                    6\n",
       "country                  0\n",
       "funds_raised           248\n",
       "dtype: int64"
      ]
     },
     "execution_count": 10,
     "metadata": {},
     "output_type": "execute_result"
    }
   ],
   "source": [
    "df.isna().sum()"
   ]
  },
  {
   "cell_type": "markdown",
   "metadata": {},
   "source": [
    "### Dealing with Null Values"
   ]
  },
  {
   "cell_type": "code",
   "execution_count": 11,
   "metadata": {},
   "outputs": [
    {
     "data": {
      "text/plain": [
       "percentage_laid_off    50.24\n",
       "total_laid_off         45.76\n",
       "funds_raised           10.80\n",
       "stage                   0.24\n",
       "date                    0.08\n",
       "industry                0.08\n",
       "country                 0.00\n",
       "location                0.00\n",
       "company                 0.00\n",
       "dtype: float64"
      ]
     },
     "execution_count": 11,
     "metadata": {},
     "output_type": "execute_result"
    }
   ],
   "source": [
    "# Percentage of Missing Values in data\n",
    "(df.isnull().sum()/df.count()*100).round(2).sort_values(ascending=False)."
   ]
  },
  {
   "cell_type": "code",
   "execution_count": 19,
   "metadata": {},
   "outputs": [],
   "source": [
    "df = df.drop(['funds_raised','percentage_laid_off', 'stage', 'date'], axis=1)\n",
    "df.total_laid_off = df.total_laid_off.fillna(1) # lets assume there must be atleast 1 reported layoff in any company in this dataset\n",
    "df.industry = df.industry.fillna('Unknown')\n",
    "df.total_laid_off = df.total_laid_off.astype(int) # layoffs should be whole numbers not floats"
   ]
  },
  {
   "cell_type": "code",
   "execution_count": 20,
   "metadata": {},
   "outputs": [
    {
     "data": {
      "text/plain": [
       "0"
      ]
     },
     "execution_count": 20,
     "metadata": {},
     "output_type": "execute_result"
    }
   ],
   "source": [
    "df.isna().sum().sum()"
   ]
  },
  {
   "cell_type": "code",
   "execution_count": 24,
   "metadata": {},
   "outputs": [
    {
     "name": "stdout",
     "output_type": "stream",
     "text": [
      "<class 'pandas.core.frame.DataFrame'>\n",
      "Int64Index: 2543 entries, 0 to 2542\n",
      "Data columns (total 6 columns):\n",
      " #   Column          Non-Null Count  Dtype \n",
      "---  ------          --------------  ----- \n",
      " 0   company         2543 non-null   object\n",
      " 1   location        2543 non-null   object\n",
      " 2   industry        2543 non-null   object\n",
      " 3   total_laid_off  2543 non-null   int32 \n",
      " 4   date            2543 non-null   object\n",
      " 5   country         2543 non-null   object\n",
      "dtypes: int32(1), object(5)\n",
      "memory usage: 129.1+ KB\n"
     ]
    }
   ],
   "source": [
    "df.info()"
   ]
  },
  {
   "cell_type": "code",
   "execution_count": 28,
   "metadata": {},
   "outputs": [],
   "source": [
    "# Converting date column to datetype dtype\n",
    "df['date'] = pd.to_datetime(df['date'])"
   ]
  },
  {
   "cell_type": "code",
   "execution_count": 30,
   "metadata": {},
   "outputs": [
    {
     "data": {
      "text/html": [
       "<div>\n",
       "<style scoped>\n",
       "    .dataframe tbody tr th:only-of-type {\n",
       "        vertical-align: middle;\n",
       "    }\n",
       "\n",
       "    .dataframe tbody tr th {\n",
       "        vertical-align: top;\n",
       "    }\n",
       "\n",
       "    .dataframe thead th {\n",
       "        text-align: right;\n",
       "    }\n",
       "</style>\n",
       "<table border=\"1\" class=\"dataframe\">\n",
       "  <thead>\n",
       "    <tr style=\"text-align: right;\">\n",
       "      <th></th>\n",
       "      <th>company</th>\n",
       "      <th>location</th>\n",
       "      <th>industry</th>\n",
       "      <th>total_laid_off</th>\n",
       "      <th>date</th>\n",
       "      <th>country</th>\n",
       "    </tr>\n",
       "  </thead>\n",
       "  <tbody>\n",
       "    <tr>\n",
       "      <th>779</th>\n",
       "      <td>Yapily</td>\n",
       "      <td>London</td>\n",
       "      <td>Finance</td>\n",
       "      <td>1</td>\n",
       "      <td>2022-12-01</td>\n",
       "      <td>United Kingdom</td>\n",
       "    </tr>\n",
       "    <tr>\n",
       "      <th>2009</th>\n",
       "      <td>Dark</td>\n",
       "      <td>SF Bay Area</td>\n",
       "      <td>Product</td>\n",
       "      <td>6</td>\n",
       "      <td>2020-06-23</td>\n",
       "      <td>United States</td>\n",
       "    </tr>\n",
       "    <tr>\n",
       "      <th>1365</th>\n",
       "      <td>Perceptive Automata</td>\n",
       "      <td>Boston</td>\n",
       "      <td>Transportation</td>\n",
       "      <td>1</td>\n",
       "      <td>2022-08-01</td>\n",
       "      <td>United States</td>\n",
       "    </tr>\n",
       "    <tr>\n",
       "      <th>222</th>\n",
       "      <td>StrongDM</td>\n",
       "      <td>SF Bay Area</td>\n",
       "      <td>Infrastructure</td>\n",
       "      <td>40</td>\n",
       "      <td>2023-02-23</td>\n",
       "      <td>United States</td>\n",
       "    </tr>\n",
       "    <tr>\n",
       "      <th>1874</th>\n",
       "      <td>Genius</td>\n",
       "      <td>New York City</td>\n",
       "      <td>Consumer</td>\n",
       "      <td>1</td>\n",
       "      <td>2021-09-15</td>\n",
       "      <td>United States</td>\n",
       "    </tr>\n",
       "    <tr>\n",
       "      <th>857</th>\n",
       "      <td>Capitolis</td>\n",
       "      <td>New York City</td>\n",
       "      <td>Finance</td>\n",
       "      <td>37</td>\n",
       "      <td>2022-11-17</td>\n",
       "      <td>United States</td>\n",
       "    </tr>\n",
       "    <tr>\n",
       "      <th>1909</th>\n",
       "      <td>Pulse Secure</td>\n",
       "      <td>SF Bay Area</td>\n",
       "      <td>Security</td>\n",
       "      <td>78</td>\n",
       "      <td>2020-12-23</td>\n",
       "      <td>United States</td>\n",
       "    </tr>\n",
       "    <tr>\n",
       "      <th>957</th>\n",
       "      <td>Zendesk</td>\n",
       "      <td>SF Bay Area</td>\n",
       "      <td>Support</td>\n",
       "      <td>350</td>\n",
       "      <td>2022-11-07</td>\n",
       "      <td>United States</td>\n",
       "    </tr>\n",
       "    <tr>\n",
       "      <th>1780</th>\n",
       "      <td>DataRobot</td>\n",
       "      <td>Boston</td>\n",
       "      <td>Data</td>\n",
       "      <td>70</td>\n",
       "      <td>2022-05-11</td>\n",
       "      <td>United States</td>\n",
       "    </tr>\n",
       "    <tr>\n",
       "      <th>1608</th>\n",
       "      <td>Bybit</td>\n",
       "      <td>Singapore</td>\n",
       "      <td>Crypto</td>\n",
       "      <td>600</td>\n",
       "      <td>2022-06-20</td>\n",
       "      <td>Singapore</td>\n",
       "    </tr>\n",
       "  </tbody>\n",
       "</table>\n",
       "</div>"
      ],
      "text/plain": [
       "                  company       location        industry  total_laid_off  \\\n",
       "779                Yapily         London         Finance               1   \n",
       "2009                 Dark    SF Bay Area         Product               6   \n",
       "1365  Perceptive Automata         Boston  Transportation               1   \n",
       "222              StrongDM    SF Bay Area  Infrastructure              40   \n",
       "1874               Genius  New York City        Consumer               1   \n",
       "857             Capitolis  New York City         Finance              37   \n",
       "1909         Pulse Secure    SF Bay Area        Security              78   \n",
       "957               Zendesk    SF Bay Area         Support             350   \n",
       "1780            DataRobot         Boston            Data              70   \n",
       "1608                Bybit      Singapore          Crypto             600   \n",
       "\n",
       "           date         country  \n",
       "779  2022-12-01  United Kingdom  \n",
       "2009 2020-06-23   United States  \n",
       "1365 2022-08-01   United States  \n",
       "222  2023-02-23   United States  \n",
       "1874 2021-09-15   United States  \n",
       "857  2022-11-17   United States  \n",
       "1909 2020-12-23   United States  \n",
       "957  2022-11-07   United States  \n",
       "1780 2022-05-11   United States  \n",
       "1608 2022-06-20       Singapore  "
      ]
     },
     "execution_count": 30,
     "metadata": {},
     "output_type": "execute_result"
    }
   ],
   "source": [
    "# Looking at 10 random rolls in dataset\n",
    "df.sample(10)"
   ]
  },
  {
   "cell_type": "code",
   "execution_count": 31,
   "metadata": {},
   "outputs": [
    {
     "name": "stdout",
     "output_type": "stream",
     "text": [
      "<class 'pandas.core.frame.DataFrame'>\n",
      "Int64Index: 2543 entries, 0 to 2542\n",
      "Data columns (total 6 columns):\n",
      " #   Column          Non-Null Count  Dtype         \n",
      "---  ------          --------------  -----         \n",
      " 0   company         2543 non-null   object        \n",
      " 1   location        2543 non-null   object        \n",
      " 2   industry        2543 non-null   object        \n",
      " 3   total_laid_off  2543 non-null   int32         \n",
      " 4   date            2543 non-null   datetime64[ns]\n",
      " 5   country         2543 non-null   object        \n",
      "dtypes: datetime64[ns](1), int32(1), object(4)\n",
      "memory usage: 129.1+ KB\n"
     ]
    }
   ],
   "source": [
    "df.info()"
   ]
  },
  {
   "cell_type": "code",
   "execution_count": 33,
   "metadata": {},
   "outputs": [],
   "source": [
    "df.to_csv('cleaned_layoffs.csv')"
   ]
  },
  {
   "cell_type": "code",
   "execution_count": null,
   "metadata": {},
   "outputs": [],
   "source": []
  }
 ],
 "metadata": {
  "kernelspec": {
   "display_name": "Python 3",
   "language": "python",
   "name": "python3"
  },
  "language_info": {
   "codemirror_mode": {
    "name": "ipython",
    "version": 3
   },
   "file_extension": ".py",
   "mimetype": "text/x-python",
   "name": "python",
   "nbconvert_exporter": "python",
   "pygments_lexer": "ipython3",
   "version": "3.7.6"
  }
 },
 "nbformat": 4,
 "nbformat_minor": 4
}
